{
 "cells": [
  {
   "cell_type": "markdown",
   "metadata": {},
   "source": [
    "Необходимо реализовать функцию, которая будет автоматически подгружать информацию из дополнительного файла groups_add.csv (заголовки могут отличаться) и на основании дополнительных параметров пересчитывать метрики.\n",
    "\n",
    "Также реализовать функцию, которая будет строить графики по получаемым метрикам."
   ]
  },
  {
   "cell_type": "code",
   "execution_count": 13,
   "metadata": {},
   "outputs": [],
   "source": [
    "import pandas as pd\n",
    "\n",
    "%matplotlib inline\n",
    "import seaborn as sns\n",
    "import matplotlib.pyplot as plt"
   ]
  },
  {
   "cell_type": "code",
   "execution_count": 5,
   "metadata": {},
   "outputs": [],
   "source": [
    "path = 'group_add.csv'"
   ]
  },
  {
   "cell_type": "code",
   "execution_count": 8,
   "metadata": {},
   "outputs": [],
   "source": [
    "def add_info(path):\n",
    "    \"\"\"\n",
    "    Функция def  add_info принимает на вход один аргумент:\n",
    "    \n",
    "        path – путь к датафрейму с дополнительной информацией\n",
    "        \n",
    "    Возвращает пересчёт метрик CR, ARPAU и ARPPU.\n",
    "    \n",
    "    \"\"\"\n",
    "    \n",
    "    groups = pd.read_csv('groups.csv', sep=';')\n",
    "    active_studs = pd.read_csv('active_studs.csv')\n",
    "    checks = pd.read_csv('checks.csv', sep=';')\n",
    "    \n",
    "    groups_add = pd.read_csv(path, sep = ';')\n",
    "    \n",
    "    all_groups = pd.concat([groups, groups_add], ignore_index=True).rename(columns={'id': 'student_id'})\n",
    "    \n",
    "    active_with_checks = active_studs.merge(checks, on='student_id', how='outer').fillna(0)\n",
    "    \n",
    "    df = active_with_checks.merge(all_groups, on='student_id', how='inner') \\\n",
    "        .rename(columns={'rev': 'revenue', 'grp': 'group'})\n",
    "    \n",
    "    df['paid'] = df.revenue.apply(lambda x: 1 if x > 0 else 0)\n",
    "    \n",
    "    df_stats = df.groupby('group', as_index=False) \\\n",
    "        .agg({'revenue': 'sum', 'student_id': 'count', 'paid': 'sum'}) \\\n",
    "        .rename(columns={'student_id': 'users_count'})\n",
    "    \n",
    "    df_stats['unpaid'] = df_stats.users_count - df_stats.paid\n",
    "    df_stats['CR'] = df_stats.paid / df_stats.users_count * 100\n",
    "    df_stats['ARPAU'] = df_stats.revenue / df_stats.users_count\n",
    "    df_stats['ARPPU'] = df_stats.revenue / df_stats.paid\n",
    "    \n",
    "    return df_stats[['group', 'CR', 'ARPAU', 'ARPPU']]"
   ]
  },
  {
   "cell_type": "code",
   "execution_count": 11,
   "metadata": {},
   "outputs": [
    {
     "data": {
      "text/html": [
       "<div>\n",
       "<style scoped>\n",
       "    .dataframe tbody tr th:only-of-type {\n",
       "        vertical-align: middle;\n",
       "    }\n",
       "\n",
       "    .dataframe tbody tr th {\n",
       "        vertical-align: top;\n",
       "    }\n",
       "\n",
       "    .dataframe thead th {\n",
       "        text-align: right;\n",
       "    }\n",
       "</style>\n",
       "<table border=\"1\" class=\"dataframe\">\n",
       "  <thead>\n",
       "    <tr style=\"text-align: right;\">\n",
       "      <th></th>\n",
       "      <th>group</th>\n",
       "      <th>CR</th>\n",
       "      <th>ARPAU</th>\n",
       "      <th>ARPPU</th>\n",
       "    </tr>\n",
       "  </thead>\n",
       "  <tbody>\n",
       "    <tr>\n",
       "      <th>0</th>\n",
       "      <td>A</td>\n",
       "      <td>6.841432</td>\n",
       "      <td>58.884910</td>\n",
       "      <td>860.710280</td>\n",
       "    </tr>\n",
       "    <tr>\n",
       "      <th>1</th>\n",
       "      <td>B</td>\n",
       "      <td>6.263561</td>\n",
       "      <td>69.337481</td>\n",
       "      <td>1106.997699</td>\n",
       "    </tr>\n",
       "  </tbody>\n",
       "</table>\n",
       "</div>"
      ],
      "text/plain": [
       "  group        CR      ARPAU        ARPPU\n",
       "0     A  6.841432  58.884910   860.710280\n",
       "1     B  6.263561  69.337481  1106.997699"
      ]
     },
     "execution_count": 11,
     "metadata": {},
     "output_type": "execute_result"
    }
   ],
   "source": [
    "#выводим информацию\n",
    "df = add_info(path)\n",
    "df"
   ]
  },
  {
   "cell_type": "code",
   "execution_count": 24,
   "metadata": {},
   "outputs": [],
   "source": [
    "def visualization(data):\n",
    "    \"\"\"\n",
    "    Функция def visualization выполняет построение графиков на основе предыдщуего запроса.\n",
    "    \n",
    "    \"\"\"\n",
    "    fig, axs = plt.subplots(1, 3, figsize=(12, 4))\n",
    "    \n",
    "    sns.barplot(ax=axs[0], data=data, x='group', y='CR').set(xlabel='group', ylabel='', title='CR')\n",
    "    sns.barplot(ax=axs[1], data=data, x='group', y='ARPAU').set(xlabel='group', ylabel='', title='ARPAU')\n",
    "    sns.barplot(ax=axs[2], data=data, x='group', y='ARPPU').set(xlabel='group', ylabel='', title='ARPPU')"
   ]
  },
  {
   "cell_type": "code",
   "execution_count": 25,
   "metadata": {},
   "outputs": [
    {
     "data": {
      "image/png": "[encoded data removed]",
      "text/plain": [
       "<Figure size 864x288 with 3 Axes>"
      ]
     },
     "metadata": {
      "needs_background": "light"
     },
     "output_type": "display_data"
    }
   ],
   "source": [
    "visualization(df)"
   ]
  }
 ],
 "metadata": {
  "kernelspec": {
   "display_name": "Python 3",
   "language": "python",
   "name": "python3"
  },
  "language_info": {
   "codemirror_mode": {
    "name": "ipython",
    "version": 3
   },
   "file_extension": ".py",
   "mimetype": "text/x-python",
   "name": "python",
   "nbconvert_exporter": "python",
   "pygments_lexer": "ipython3",
   "version": "3.7.3"
  }
 },
 "nbformat": 4,
 "nbformat_minor": 4
}
