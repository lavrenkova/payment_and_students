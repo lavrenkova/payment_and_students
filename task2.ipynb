{
 "cells": [
  {
   "cell_type": "markdown",
   "metadata": {},
   "source": [
    "Образовательные курсы состоят из различных уроков, каждый из которых состоит из нескольких маленьких заданий. Каждое такое маленькое задание называется \"горошиной\".\n",
    "\n",
    "Назовём очень усердным учеником того пользователя, который хотя бы раз за текущий месяц правильно решил 20 горошин."
   ]
  },
  {
   "cell_type": "markdown",
   "metadata": {},
   "source": [
    "Необходимо написать оптимальный запрос, который даст информацию о количестве очень усердных студентов."
   ]
  },
  {
   "cell_type": "code",
   "execution_count": 1,
   "metadata": {},
   "outputs": [],
   "source": [
    "#импортируем необходимую библиотеку\n",
    "import pandahouse as ph"
   ]
  },
  {
   "cell_type": "code",
   "execution_count": 2,
   "metadata": {},
   "outputs": [],
   "source": [
    "# создаем соединение с базой данных ClickHouse\n",
    "connection1 = {\n",
    "                    'host': 'https://clickhouse.lab.karpov.courses',\n",
    "                    'database': 'default',\n",
    "                    'user': 'student', \n",
    "                    'password': 'dpo_python_2020'\n",
    "               }"
   ]
  },
  {
   "cell_type": "code",
   "execution_count": 3,
   "metadata": {},
   "outputs": [],
   "source": [
    "# запрос SELECT\n",
    "query1 = \"\"\"\n",
    "    SELECT uniqExact(st_id) AS count_students\n",
    "FROM (\n",
    "    SELECT\n",
    "        st_id,\n",
    "        SUM(correct) OVER(PARTITION BY st_id) AS sum_correct\n",
    "    FROM (\n",
    "        SELECT *\n",
    "        FROM default.peas\n",
    "        WHERE \n",
    "            toMonth(timest) = (SELECT toMonth(MAX(timest)) FROM default.peas) \n",
    "            AND toYear(timest) = (SELECT toYear(MAX(timest)) FROM default.peas)\n",
    "        )\n",
    "    )\n",
    "WHERE sum_correct >= 20\n",
    "\"\"\""
   ]
  },
  {
   "cell_type": "code",
   "execution_count": 4,
   "metadata": {},
   "outputs": [
    {
     "name": "stdout",
     "output_type": "stream",
     "text": [
      "Количество усердных студентов: 136\n"
     ]
    }
   ],
   "source": [
    "df1 = ph.read_clickhouse(query1, connection=connection1)\n",
    "\n",
    "# выводим результат\n",
    "print(f\"Количество усердных студентов: {df1['count_students'][0]}\")"
   ]
  },
  {
   "cell_type": "markdown",
   "metadata": {},
   "source": [
    "Образовательная платформа предлагает пройти студентам курсы по модели trial: студент может решить бесплатно лишь 30 горошин в день. Для неограниченного количества заданий в определенной дисциплине студенту необходимо приобрести полный доступ. Команда провела эксперимент, где был протестирован новый экран оплаты."
   ]
  },
  {
   "cell_type": "markdown",
   "metadata": {},
   "source": [
    "Необходимо в _одном запросе_ выгрузить следующую информацию о группах пользователей:\n",
    "\n",
    "+ ARPU \n",
    "+ ARPAU \n",
    "+ CR в покупку \n",
    "+ СR активного пользователя в покупку \n",
    "+ CR пользователя из активности по математике (subject = ’math’) в покупку курса по математике\n",
    "\n",
    "ARPU считается относительно всех пользователей, попавших в группы.\n",
    "**Активным** считается пользователь, за все время решивший **больше 10 задач правильно** в любых дисциплинах.\n",
    "**Активным по математике** считается пользователь, за все время решивший **2 или больше задач** правильно по математике."
   ]
  },
  {
   "cell_type": "code",
   "execution_count": 5,
   "metadata": {},
   "outputs": [],
   "source": [
    "query2 = \"\"\"\n",
    "WITH active AS (\n",
    "    SELECT\n",
    "    st_id,\n",
    "    IF(count_correct > 10, 1, 0) AS active,\n",
    "    IF(count_math_correct >= 2, 1, 0) AS active_math\n",
    "FROM (\n",
    "    SELECT \n",
    "        DISTINCT st_id,\n",
    "        SUM(correct) OVER (PARTITION BY st_id) AS count_correct,\n",
    "        sumIf(correct, subject = 'Math') OVER (PARTITION BY st_id) AS count_math_correct \n",
    "    FROM default.peas\n",
    "    )\n",
    "),\n",
    "money AS (\n",
    "SELECT \n",
    "    st_id,\n",
    "    sum_money,\n",
    "    sum_math_money,\n",
    "    IF(sum_money > 0, 1, 0) AS paid,\n",
    "    IF(sum_math_money > 0, 1, 0) AS paid_math\n",
    "FROM (\n",
    "    SELECT \n",
    "        DISTINCT st_id,\n",
    "        SUM(money) OVER (PARTITION BY st_id) AS sum_money,\n",
    "        sumIf(money, subject = 'Math') OVER (PARTITION BY st_id) AS sum_math_money\n",
    "    FROM default.final_project_check\n",
    ")\n",
    ")\n",
    "\n",
    "SELECT\n",
    "    test_grp,\n",
    "    ROUND((SUM(C.sum_money) / uniqExact(A.st_id)), 2) AS ARPU,\n",
    "    sumIf(C.sum_money, B.active = 1) / SUM(B.active) AS ARPAU,\n",
    "    ROUND(SUM(C.paid) / uniqExact(A.st_id) * 100, 2)  AS CR,\n",
    "    ROUND(sumIf(C.paid, B.active = 1) / SUM(B.active) * 100, 2) AS CR_active,\n",
    "    ROUND(sumIf(C.paid_math, B.active_math = 1) / SUM(B.active_math) * 100, 2) AS CR_math\n",
    "FROM default.studs AS A\n",
    "    LEFT JOIN active AS B ON A.st_id = B.st_id\n",
    "    LEFT JOIN money AS C ON A.st_id = C.st_id\n",
    "GROUP BY test_grp\n",
    "\"\"\""
   ]
  },
  {
   "cell_type": "code",
   "execution_count": 6,
   "metadata": {},
   "outputs": [
    {
     "data": {
      "text/html": [
       "<div>\n",
       "<style scoped>\n",
       "    .dataframe tbody tr th:only-of-type {\n",
       "        vertical-align: middle;\n",
       "    }\n",
       "\n",
       "    .dataframe tbody tr th {\n",
       "        vertical-align: top;\n",
       "    }\n",
       "\n",
       "    .dataframe thead th {\n",
       "        text-align: right;\n",
       "    }\n",
       "</style>\n",
       "<table border=\"1\" class=\"dataframe\">\n",
       "  <thead>\n",
       "    <tr style=\"text-align: right;\">\n",
       "      <th></th>\n",
       "      <th>test_grp</th>\n",
       "      <th>ARPU</th>\n",
       "      <th>ARPAU</th>\n",
       "      <th>CR</th>\n",
       "      <th>CR_active</th>\n",
       "      <th>CR_math</th>\n",
       "    </tr>\n",
       "  </thead>\n",
       "  <tbody>\n",
       "    <tr>\n",
       "      <th>0</th>\n",
       "      <td>control</td>\n",
       "      <td>4540.98</td>\n",
       "      <td>10393.700787</td>\n",
       "      <td>4.92</td>\n",
       "      <td>11.02</td>\n",
       "      <td>6.12</td>\n",
       "    </tr>\n",
       "    <tr>\n",
       "      <th>1</th>\n",
       "      <td>pilot</td>\n",
       "      <td>11508.47</td>\n",
       "      <td>29739.583333</td>\n",
       "      <td>10.85</td>\n",
       "      <td>26.04</td>\n",
       "      <td>9.52</td>\n",
       "    </tr>\n",
       "  </tbody>\n",
       "</table>\n",
       "</div>"
      ],
      "text/plain": [
       "  test_grp      ARPU         ARPAU     CR  CR_active  CR_math\n",
       "0  control   4540.98  10393.700787   4.92      11.02     6.12\n",
       "1    pilot  11508.47  29739.583333  10.85      26.04     9.52"
      ]
     },
     "execution_count": 6,
     "metadata": {},
     "output_type": "execute_result"
    }
   ],
   "source": [
    "df2 = ph.read_clickhouse(query2, connection=connection1)\n",
    "\n",
    "# выводим результат\n",
    "df2"
   ]
  }
 ],
 "metadata": {
  "kernelspec": {
   "display_name": "Python 3",
   "language": "python",
   "name": "python3"
  },
  "language_info": {
   "codemirror_mode": {
    "name": "ipython",
    "version": 3
   },
   "file_extension": ".py",
   "mimetype": "text/x-python",
   "name": "python",
   "nbconvert_exporter": "python",
   "pygments_lexer": "ipython3",
   "version": "3.7.3"
  }
 },
 "nbformat": 4,
 "nbformat_minor": 4
}
